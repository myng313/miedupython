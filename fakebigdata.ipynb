{
 "cells": [
  {
   "cell_type": "code",
   "execution_count": 2,
   "metadata": {},
   "outputs": [],
   "source": [
    "#Import các thư viện\n",
    "import numpy as np\n",
    "import pandas as pd\n",
    "import random"
   ]
  },
  {
   "cell_type": "code",
   "execution_count": 3,
   "metadata": {},
   "outputs": [],
   "source": [
    "#Khai báo kích thước bảng dữ liệu\n",
    "np.random.seed = 42\n",
    "df_size = 2000000"
   ]
  },
  {
   "cell_type": "code",
   "execution_count": 4,
   "metadata": {},
   "outputs": [],
   "source": [
    "#Khai báo các trường dữ liệu của bảng\n",
    "df = pd.DataFrame({\n",
    "    'id_Hinh thuc dao tao': np.random.randint(1,2,size=df_size),\n",
    "    'id_Don vi to chuc': np.random.randint(1,47,size=df_size),\n",
    "    'id_Giang vien': np.random.randint(1,4,size=df_size),\n",
    "    'So thang dao tao': np.random.randint(1,6,size=df_size),\n",
    "    'Thoi gian bat dau khoa hoc': np.random.choice(pd.date_range('2010-01-01', '2021-12-31'),size=df_size),\n",
    "    })"
   ]
  },
  {
   "cell_type": "code",
   "execution_count": 17,
   "metadata": {},
   "outputs": [],
   "source": [
    "df['So buoi dao tao'] = df['So thang dao tao']*random.randint(2,4) #Thêm trường Số buổi đào tạo"
   ]
  },
  {
   "cell_type": "code",
   "execution_count": 18,
   "metadata": {},
   "outputs": [],
   "source": [
    "df['So gio dao tao'] = df['So buoi dao tao']*2 #Thêm trường Số giờ đào tạo"
   ]
  },
  {
   "cell_type": "code",
   "execution_count": 15,
   "metadata": {},
   "outputs": [],
   "source": [
    "df['Nam'] = df['Thoi gian bat dau khoa hoc'].dt.year #Thêm trường Năm"
   ]
  },
  {
   "cell_type": "code",
   "execution_count": null,
   "metadata": {},
   "outputs": [],
   "source": [
    "df_csv = df.to_csv('2m.csv') #Lưu file ở dạng CSV"
   ]
  }
 ],
 "metadata": {
  "interpreter": {
   "hash": "cd8ac7ed5329ff1f59a8356dfddf06d159cf18414acbfd7b13d1d5cd1cbb5d7d"
  },
  "kernelspec": {
   "display_name": "Python 3.8.8 ('base')",
   "language": "python",
   "name": "python3"
  },
  "language_info": {
   "codemirror_mode": {
    "name": "ipython",
    "version": 3
   },
   "file_extension": ".py",
   "mimetype": "text/x-python",
   "name": "python",
   "nbconvert_exporter": "python",
   "pygments_lexer": "ipython3",
   "version": "3.8.8"
  },
  "orig_nbformat": 4
 },
 "nbformat": 4,
 "nbformat_minor": 2
}
